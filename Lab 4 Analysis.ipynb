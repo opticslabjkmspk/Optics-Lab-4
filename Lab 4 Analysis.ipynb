{
 "cells": [
  {
   "cell_type": "code",
   "execution_count": 1,
   "id": "355a8643",
   "metadata": {},
   "outputs": [
    {
     "data": {
      "text/plain": [
       "'\\nThe intensity of reflection goes to zero when our polarizer is set to 84 degrees.\\n'"
      ]
     },
     "execution_count": 1,
     "metadata": {},
     "output_type": "execute_result"
    }
   ],
   "source": [
    "'''\n",
    "The intensity of reflection goes to zero when our polarizer is set to 84 degrees.\n",
    "'''"
   ]
  },
  {
   "cell_type": "code",
   "execution_count": 2,
   "id": "24930d17",
   "metadata": {},
   "outputs": [],
   "source": [
    "#!pip install numpy\n",
    "#!pip install matplotlib\n",
    "#!pip install pandas\n",
    "#!pip install csv\n",
    "#!pip install sklearn\n",
    "#!pip install tabulate\n",
    "from IPython.display import Image\n",
    "import numpy as np\n",
    "import matplotlib.pyplot as plt\n",
    "import pandas as pd\n",
    "import random\n",
    "import matplotlib.pyplot as plt\n",
    "#from sklearn.metrics import r2_score,mean_squared_error\n",
    "#from tabulate import tabulate\n",
    "\n",
    "%matplotlib inline"
   ]
  },
  {
   "cell_type": "code",
   "execution_count": 17,
   "id": "20df1298",
   "metadata": {},
   "outputs": [
    {
     "data": {
      "text/plain": [
       "202"
      ]
     },
     "execution_count": 17,
     "metadata": {},
     "output_type": "execute_result"
    }
   ],
   "source": [
    "80+122"
   ]
  },
  {
   "cell_type": "code",
   "execution_count": 18,
   "id": "f8d566af",
   "metadata": {},
   "outputs": [
    {
     "name": "stdout",
     "output_type": "stream",
     "text": [
      "We are sweeping from  40  to  80  but being shifted by 122 degree, our new range is  162  to  202\n",
      "the brewster angle should be at  58  and the shifted brewster is at  180\n",
      "    Rotation Angle  Incident Angle\n",
      "0              192              70\n",
      "1              198              76\n",
      "2              172              50\n",
      "3              200              78\n",
      "4              184              62\n",
      "5              176              54\n",
      "6              170              48\n",
      "7              164              42\n",
      "8              190              68\n",
      "9              186              64\n",
      "10             202              80\n",
      "11             196              74\n",
      "12             188              66\n",
      "13             166              44\n",
      "14             162              40\n",
      "15             194              72\n",
      "16             182              60\n",
      "17             168              46\n",
      "18             178              56\n",
      "19             180              58\n",
      "20             174              52\n"
     ]
    }
   ],
   "source": [
    "\n",
    "randomList=[]\n",
    "for i in range(1000):\n",
    "    r=random.randint(162,203)\n",
    "    if r not in randomList and r%2 == 0:\n",
    "        \n",
    "        randomList.append(r)\n",
    "\n",
    "arr = []\n",
    "for i in range(0,91,2):\n",
    "    arr.append(i)\n",
    "            \n",
    "\n",
    "df_random = pd.DataFrame(randomList,columns = ['Rotation Angle'])\n",
    "\n",
    "\n",
    "\n",
    "df_random['Incident Angle'] = df_random['Rotation Angle'] - 122\n",
    "\n",
    "#df_random\n",
    "\n",
    "inc_max = df_random['Incident Angle'].max()\n",
    "inc_min = df_random['Incident Angle'].min()\n",
    "\n",
    "shift_min = df_random['Rotation Angle'].min()\n",
    "shift_max = df_random['Rotation Angle'].max()\n",
    "\n",
    "brew = 58\n",
    "shift_brew = brew + 122\n",
    "\n",
    "print('We are sweeping from ', inc_min, ' to ', inc_max, ' but being shifted by 122 degree, our new range is ', shift_min, ' to ', shift_max)\n",
    "print('the brewster angle should be at ', brew, ' and the shifted brewster is at ', shift_brew)\n",
    "\n",
    "print(df_random)"
   ]
  },
  {
   "cell_type": "code",
   "execution_count": null,
   "id": "c2ed7f71",
   "metadata": {},
   "outputs": [],
   "source": []
  },
  {
   "cell_type": "code",
   "execution_count": 23,
   "id": "1acdee88",
   "metadata": {},
   "outputs": [
    {
     "name": "stdout",
     "output_type": "stream",
     "text": [
      "    Angle [degrees]  Average Power [W]\n",
      "0                40       3.894000e-06\n",
      "1                42       4.889857e-06\n",
      "2                44       8.415857e-07\n",
      "3                46       5.814143e-07\n",
      "4                48       3.895429e-07\n",
      "5                50       8.717714e-07\n",
      "6                52       2.867714e-07\n",
      "7                54       1.133571e-07\n",
      "8                56       7.514714e-08\n",
      "9                58       3.860714e-08\n",
      "10               60       7.851143e-07\n",
      "11               62       1.233143e-07\n",
      "12               64       5.101429e-07\n",
      "13               66       7.353286e-07\n",
      "14               68       4.309000e-06\n",
      "15               70       2.044143e-06\n",
      "16               72       9.676000e-06\n",
      "17               74       8.876286e-06\n",
      "18               76       1.048043e-04\n",
      "19               78       1.660914e-04\n",
      "20               80       1.741586e-04\n"
     ]
    }
   ],
   "source": [
    "avrg = []\n",
    "angle = []\n",
    "\n",
    "\n",
    "for i in range(40,81,2):\n",
    "    string = str(i) + '.csv'\n",
    "    df = pd.read_csv(string, sep='delimiter',engine='python')\n",
    "    df = df[15:26]\n",
    "    df.columns=['itr']\n",
    "    lines = []\n",
    "    for line in df['itr']:\n",
    "        line = line.split(',')\n",
    "        lines.append(line)\n",
    "    df = pd.DataFrame(lines)\n",
    "    power = df[1]\n",
    "    power = '0.' + power\n",
    "    power = power.values.tolist()\n",
    "    for j in range(0, len(power)):\n",
    "        power[j] = float(power[j])\n",
    "    avg = np.mean(power)\n",
    "    avrg.append(avg)\n",
    "    angle.append(i)\n",
    "\n",
    "data_dict = {\n",
    "    'Angle [degrees]':angle,\n",
    "    'Average Power [W]':avrg\n",
    "}\n",
    "\n",
    "\n",
    "data = pd.DataFrame(data_dict)\n",
    "\n",
    "\n",
    "print(data.to_string())"
   ]
  },
  {
   "cell_type": "code",
   "execution_count": 26,
   "id": "da6e7151",
   "metadata": {},
   "outputs": [
    {
     "data": {
      "image/png": "[encoded data removed]",
      "text/plain": [
       "<Figure size 640x480 with 1 Axes>"
      ]
     },
     "metadata": {},
     "output_type": "display_data"
    }
   ],
   "source": [
    "data_angle = data['Angle [degrees]']\n",
    "data_power = data['Average Power [W]']\n",
    "\n",
    "data_angle2 = data_angle[0:16]\n",
    "data_power2 = data_power[0:16]\n",
    "\n",
    "plt.scatter(data_angle2,data_power2)\n",
    "plt.plot(data_angle2,data_power2,color='r')\n",
    "plt.grid()\n",
    "plt.show()"
   ]
  },
  {
   "cell_type": "code",
   "execution_count": null,
   "id": "1efbf5c8",
   "metadata": {},
   "outputs": [],
   "source": []
  },
  {
   "cell_type": "code",
   "execution_count": null,
   "id": "f75da8d9",
   "metadata": {},
   "outputs": [],
   "source": []
  }
 ],
 "metadata": {
  "kernelspec": {
   "display_name": "Python 3 (ipykernel)",
   "language": "python",
   "name": "python3"
  },
  "language_info": {
   "codemirror_mode": {
    "name": "ipython",
    "version": 3
   },
   "file_extension": ".py",
   "mimetype": "text/x-python",
   "name": "python",
   "nbconvert_exporter": "python",
   "pygments_lexer": "ipython3",
   "version": "3.11.1"
  }
 },
 "nbformat": 4,
 "nbformat_minor": 5
}
